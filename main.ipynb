{
 "cells": [
  {
   "cell_type": "code",
   "execution_count": null,
   "metadata": {},
   "outputs": [],
   "source": [
    "# imports\n",
    "import numpy as np\n",
    "from csv_utils import df\n",
    "from sklearn.preprocessing import LabelEncoder, MinMaxScaler, StandardScaler, RobustScaler\n",
    "from sklearn.linear_model import LogisticRegression\n",
    "from graph_utils import show_frequency, show_numerical_attribute_distribution, show_categorical_attribute_histogram, show_numerical_corellation, show_categorical_corellation\n",
    "from logistic import split_dataset, train_logistic, predict_logistic, accuracy"
   ]
  },
  {
   "cell_type": "code",
   "execution_count": null,
   "metadata": {},
   "outputs": [],
   "source": [
    "# data exploration\n",
    "show_frequency(df, 'Revenue')\n",
    "show_numerical_attribute_distribution(df)\n",
    "show_categorical_attribute_histogram(df)"
   ]
  },
  {
   "cell_type": "code",
   "execution_count": null,
   "metadata": {},
   "outputs": [],
   "source": [
    "# correlation\n",
    "show_numerical_corellation(df)\n",
    "show_categorical_corellation(df)"
   ]
  },
  {
   "cell_type": "code",
   "execution_count": null,
   "metadata": {},
   "outputs": [],
   "source": [
    "# data preprocessing\n",
    "label_encoder = LabelEncoder()\n",
    "categorical_attributes = df.select_dtypes(include=object).columns\n",
    "for attribute in categorical_attributes:\n",
    "    df[attribute] = label_encoder.fit_transform(df[attribute])\n",
    "numerical_attributes = df.select_dtypes(include=np.number).columns\n",
    "minmax_scaler = MinMaxScaler()\n",
    "for attribute in numerical_attributes:\n",
    "    df[attribute] = minmax_scaler.fit_transform(df[attribute].values.reshape(-1, 1))\n",
    "#standard_scaler = StandardScaler()\n",
    "#for attribute in numerical_attributes:\n",
    "#    df[attribute] = standard_scaler.fit_transform(df[attribute])\n",
    "#robust_scaler = RobustScaler()\n",
    "#for attribute in numerical_attributes:\n",
    "#    df[attribute] = robust_scaler.fit_transform(df[attribute])"
   ]
  },
  {
   "cell_type": "code",
   "execution_count": null,
   "metadata": {},
   "outputs": [],
   "source": [
    "X = df.drop('Revenue', axis=1).values.astype(np.float32)\n",
    "T = df['Revenue'].values.astype(np.float32)\n",
    "X_train, T_train, X_test, T_test = split_dataset(X, T)"
   ]
  },
  {
   "cell_type": "code",
   "execution_count": null,
   "metadata": {},
   "outputs": [],
   "source": [
    "# manual implementation\n",
    "W = train_logistic(X_train, T_train)\n",
    "Y = predict_logistic(X_test, W)\n",
    "acc = accuracy(Y, T_test)\n",
    "print(f\"Accuracy: {acc}\")"
   ]
  },
  {
   "cell_type": "code",
   "execution_count": null,
   "metadata": {},
   "outputs": [],
   "source": [
    "# scikit-learn implementation\n",
    "model = LogisticRegression()\n",
    "model.fit(X_train, T_train)\n",
    "Y = model.predict(X_test)\n",
    "acc = accuracy(Y, T_test)\n",
    "print(f\"Accuracy: {acc}\")"
   ]
  }
 ],
 "metadata": {
  "kernelspec": {
   "display_name": "Python 3",
   "language": "python",
   "name": "python3"
  },
  "language_info": {
   "codemirror_mode": {
    "name": "ipython",
    "version": 3
   },
   "file_extension": ".py",
   "mimetype": "text/x-python",
   "name": "python",
   "nbconvert_exporter": "python",
   "pygments_lexer": "ipython3",
   "version": "3.10.12"
  }
 },
 "nbformat": 4,
 "nbformat_minor": 2
}

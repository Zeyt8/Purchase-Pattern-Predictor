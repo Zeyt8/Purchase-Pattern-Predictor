{
 "cells": [
  {
   "cell_type": "code",
   "execution_count": null,
   "metadata": {},
   "outputs": [],
   "source": [
    "# imports\n",
    "import numpy as np\n",
    "import pandas as pd\n",
    "from sklearn.preprocessing import LabelEncoder, MinMaxScaler, StandardScaler, RobustScaler\n",
    "from sklearn.linear_model import LogisticRegression\n",
    "from sklearn.tree import DecisionTreeClassifier\n",
    "from sklearn.metrics import accuracy_score\n",
    "from sklearn.model_selection import train_test_split\n",
    "from graph_utils import show_frequency, show_numerical_attribute_distribution, show_categorical_attribute_histogram, show_numerical_corellation, show_categorical_corellation\n",
    "from logistic import MyLogisticRegression\n",
    "from decision_tree_utils import MyDecisionTreeClassifier\n",
    "\n",
    "df: pd.DataFrame = pd.read_csv('dataset.csv')"
   ]
  },
  {
   "cell_type": "code",
   "execution_count": null,
   "metadata": {},
   "outputs": [],
   "source": [
    "# data exploration\n",
    "show_frequency(df, 'Revenue')\n",
    "show_numerical_attribute_distribution(df)\n",
    "show_categorical_attribute_histogram(df)"
   ]
  },
  {
   "cell_type": "code",
   "execution_count": null,
   "metadata": {},
   "outputs": [],
   "source": [
    "# correlation\n",
    "show_numerical_corellation(df)\n",
    "show_categorical_corellation(df)"
   ]
  },
  {
   "cell_type": "code",
   "execution_count": null,
   "metadata": {},
   "outputs": [],
   "source": [
    "# testing\n",
    "scalers = [MinMaxScaler(), StandardScaler(), RobustScaler()]\n",
    "# encode categorical attributes\n",
    "label_encoder = LabelEncoder()\n",
    "categorical_attributes = df.select_dtypes(include=object).columns\n",
    "for attribute in categorical_attributes:\n",
    "    df[attribute] = label_encoder.fit_transform(df[attribute])\n",
    "for scaler in scalers:\n",
    "    print(f'\\n======== Using {type(scaler).__name__} ========')\n",
    "    # scale numerical attributes\n",
    "    new_df = df.copy()\n",
    "    numerical_attributes = new_df.select_dtypes(include=np.number).columns\n",
    "    for attribute in numerical_attributes:\n",
    "        new_df[attribute] = scaler.fit_transform(new_df[attribute].values.reshape(-1, 1))\n",
    "    X = new_df.drop('Revenue', axis=1).values.astype(np.float32)\n",
    "    T = new_df['Revenue'].values.astype(np.float32)\n",
    "    # generate data splits\n",
    "    splits = []\n",
    "    for _ in range(10):\n",
    "        X_train, X_test, T_train, T_test = train_test_split(X, T, test_size=0.8)\n",
    "        splits.append((X_train, X_test, T_train, T_test))\n",
    "    # train and test models\n",
    "    for model in [MyLogisticRegression(), LogisticRegression(), MyDecisionTreeClassifier(df, T), DecisionTreeClassifier()]:\n",
    "        print(f'\\n== Using {type(model).__name__} ==\\n')\n",
    "        for X_train, X_test, T_train, T_test in splits:\n",
    "            model.fit(X_train, T_train)\n",
    "            Y = model.predict(X_test)\n",
    "            acc = accuracy_score(T_test, Y)\n",
    "            print(f'Accuracy: {acc}')"
   ]
  }
 ],
 "metadata": {
  "kernelspec": {
   "display_name": "Python 3",
   "language": "python",
   "name": "python3"
  },
  "language_info": {
   "codemirror_mode": {
    "name": "ipython",
    "version": 3
   },
   "file_extension": ".py",
   "mimetype": "text/x-python",
   "name": "python",
   "nbconvert_exporter": "python",
   "pygments_lexer": "ipython3",
   "version": "3.10.12"
  }
 },
 "nbformat": 4,
 "nbformat_minor": 2
}

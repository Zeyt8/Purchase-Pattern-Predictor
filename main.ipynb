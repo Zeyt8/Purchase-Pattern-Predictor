{
 "cells": [
  {
   "cell_type": "code",
   "execution_count": null,
   "metadata": {},
   "outputs": [],
   "source": [
    "# imports\n",
    "import numpy as np\n",
    "import pandas as pd\n",
    "from copy import deepcopy\n",
    "from sklearn.preprocessing import LabelEncoder, MinMaxScaler, StandardScaler, RobustScaler\n",
    "from sklearn.linear_model import LogisticRegression\n",
    "from sklearn.tree import DecisionTreeClassifier\n",
    "from sklearn.metrics import accuracy_score, precision_score, recall_score, f1_score\n",
    "from sklearn.model_selection import train_test_split\n",
    "from graph_utils import show_frequency, show_numerical_attribute_distribution, show_categorical_attribute_histogram, show_numerical_corellation, show_categorical_corellation\n",
    "from logistic import MyLogisticRegression\n",
    "from decision_tree_utils import MyDecisionTreeClassifier\n",
    "\n",
    "df: pd.DataFrame = pd.read_csv('dataset.csv')"
   ]
  },
  {
   "cell_type": "code",
   "execution_count": null,
   "metadata": {},
   "outputs": [],
   "source": [
    "# data exploration\n",
    "show_frequency(df, 'Revenue')\n",
    "show_numerical_attribute_distribution(df)\n",
    "show_categorical_attribute_histogram(df)"
   ]
  },
  {
   "cell_type": "code",
   "execution_count": null,
   "metadata": {},
   "outputs": [],
   "source": [
    "# correlation\n",
    "show_numerical_corellation(df)\n",
    "show_categorical_corellation(df)"
   ]
  },
  {
   "cell_type": "code",
   "execution_count": null,
   "metadata": {},
   "outputs": [],
   "source": [
    "def print_metrics(T_test, Y):\n",
    "    print(f'Accuracy: {accuracy_score(T_test.values.astype(np.float32), Y)}. Precision: {precision_score(T_test.values.astype(np.float32), Y)}. Recall: {recall_score(T_test.values.astype(np.float32), Y)}. F1: {f1_score(T_test.values.astype(np.float32), Y)}')"
   ]
  },
  {
   "cell_type": "code",
   "execution_count": null,
   "metadata": {},
   "outputs": [],
   "source": [
    "# encode categorical attributes\n",
    "label_encoder = LabelEncoder()\n",
    "categorical_attributes = df.select_dtypes(include=object).columns\n",
    "for attribute in categorical_attributes:\n",
    "    df[attribute] = label_encoder.fit_transform(df[attribute])\n",
    "\n",
    "# generate data splits\n",
    "numerical_attributes = df.select_dtypes(include=np.number).columns\n",
    "X = df.drop('Revenue', axis=1)\n",
    "T = df['Revenue']\n",
    "splits = []\n",
    "for _ in range(10):\n",
    "    X_train, X_test, T_train, T_test = train_test_split(X, T, test_size=0.8)\n",
    "    splits.append((X_train, X_test, T_train, T_test))\n",
    "\n",
    "for i, split in enumerate(splits):\n",
    "    print(f\"\\n======== SPLIT {i} ========\")\n",
    "    new_split = deepcopy(split)\n",
    "    X_train, X_test, T_train, T_test = new_split\n",
    "    for scaler in [MinMaxScaler(), StandardScaler(), RobustScaler()]:\n",
    "        print(f'\\n==== Using {type(scaler).__name__} ====')\n",
    "        new_X_train = deepcopy(X_train)\n",
    "        new_X_test = deepcopy(X_test)\n",
    "        # scale numerical attributes\n",
    "        for attribute in numerical_attributes:\n",
    "            new_X_train[attribute] = scaler.fit_transform(new_X_train[attribute].values.reshape(-1, 1))\n",
    "            new_X_test[attribute] = scaler.transform(new_X_test[attribute].values.reshape(-1, 1))\n",
    "        for model in [MyLogisticRegression(), LogisticRegression()]:\n",
    "            print(f'\\n== Using {type(model).__name__} ==\\n')\n",
    "            model.fit(new_X_train.values.astype(np.float32), T_train.values.astype(np.float32))\n",
    "            Y = model.predict(new_X_test.values.astype(np.float32))\n",
    "            print_metrics(T_test, Y)\n",
    "    for scaler in [MinMaxScaler(), StandardScaler(), RobustScaler(), None]:\n",
    "        print(f'\\n==== Using {type(scaler).__name__} ====')\n",
    "        new_X_train = deepcopy(X_train)\n",
    "        new_X_test = deepcopy(X_test)\n",
    "        # scale numerical attributes\n",
    "        if scaler is not None:\n",
    "            for attribute in numerical_attributes:\n",
    "                new_X_train[attribute] = scaler.fit_transform(new_X_train[attribute].values.reshape(-1, 1))\n",
    "                new_X_test[attribute] = scaler.transform(new_X_test[attribute].values.reshape(-1, 1))\n",
    "        for depth in range(3, 7):\n",
    "            for model in [DecisionTreeClassifier(), MyDecisionTreeClassifier(df, \"Revenue\")]:\n",
    "                print(f'\\n== Using {type(model).__name__} with depth {depth} ==\\n')\n",
    "                model.max_depth = depth\n",
    "                model.fit(new_X_train.values.astype(np.float32), T_train.values.astype(np.float32))\n",
    "                Y = model.predict(new_X_test.values.astype(np.float32))\n",
    "                print_metrics(T_test, Y)"
   ]
  }
 ],
 "metadata": {
  "kernelspec": {
   "display_name": "Python 3",
   "language": "python",
   "name": "python3"
  },
  "language_info": {
   "codemirror_mode": {
    "name": "ipython",
    "version": 3
   },
   "file_extension": ".py",
   "mimetype": "text/x-python",
   "name": "python",
   "nbconvert_exporter": "python",
   "pygments_lexer": "ipython3",
   "version": "3.10.12"
  }
 },
 "nbformat": 4,
 "nbformat_minor": 2
}

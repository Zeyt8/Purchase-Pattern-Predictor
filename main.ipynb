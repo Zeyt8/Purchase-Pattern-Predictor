{
 "cells": [
  {
   "cell_type": "code",
   "execution_count": null,
   "metadata": {},
   "outputs": [],
   "source": [
    "# imports\n",
    "import numpy as np\n",
    "from csv_utils import df\n",
    "from sklearn.preprocessing import LabelEncoder, MinMaxScaler, StandardScaler, RobustScaler\n",
    "from sklearn.linear_model import LogisticRegression\n",
    "from sklearn.tree import DecisionTreeClassifier\n",
    "from sklearn.metrics import accuracy_score\n",
    "from sklearn.model_selection import train_test_split\n",
    "from graph_utils import show_frequency, show_numerical_attribute_distribution, show_categorical_attribute_histogram, show_numerical_corellation, show_categorical_corellation\n",
    "from logistic import split_dataset, logistic_accuracy, MyLogisticRegression\n",
    "from decision_tree_utils import MyDecisionTreeClassifier"
   ]
  },
  {
   "cell_type": "code",
   "execution_count": null,
   "metadata": {},
   "outputs": [],
   "source": [
    "# data exploration\n",
    "show_frequency(df, 'Revenue')\n",
    "show_numerical_attribute_distribution(df)\n",
    "show_categorical_attribute_histogram(df)"
   ]
  },
  {
   "cell_type": "code",
   "execution_count": null,
   "metadata": {},
   "outputs": [],
   "source": [
    "# correlation\n",
    "show_numerical_corellation(df)\n",
    "show_categorical_corellation(df)"
   ]
  },
  {
   "cell_type": "markdown",
   "metadata": {},
   "source": [
    "# Logistic Regression"
   ]
  },
  {
   "cell_type": "code",
   "execution_count": null,
   "metadata": {},
   "outputs": [],
   "source": [
    "# data preprocessing\n",
    "label_encoder = LabelEncoder()\n",
    "categorical_attributes = df.select_dtypes(include=object).columns\n",
    "for attribute in categorical_attributes:\n",
    "    df[attribute] = label_encoder.fit_transform(df[attribute])\n",
    "numerical_attributes = df.select_dtypes(include=np.number).columns\n",
    "scaler = 0\n",
    "match scaler:\n",
    "    case 0:\n",
    "        scaler = MinMaxScaler()\n",
    "    case 1:\n",
    "        scaler = StandardScaler()\n",
    "    case 2:\n",
    "        scaler = RobustScaler()\n",
    "for attribute in numerical_attributes:\n",
    "    df[attribute] = scaler.fit_transform(df[attribute].values.reshape(-1, 1))"
   ]
  },
  {
   "cell_type": "code",
   "execution_count": null,
   "metadata": {},
   "outputs": [],
   "source": [
    "X = df.drop('Revenue', axis=1).values.astype(np.float32)\n",
    "T = df['Revenue'].values.astype(np.float32)"
   ]
  },
  {
   "cell_type": "code",
   "execution_count": null,
   "metadata": {},
   "outputs": [],
   "source": [
    "MANUAL: bool = True\n",
    "if MANUAL:\n",
    "    X_train, X_test, T_train, T_test = split_dataset(X, T)\n",
    "    model = MyLogisticRegression()\n",
    "else:\n",
    "    X_train, X_test, T_train, T_test = train_test_split(X, T, test_size=0.8)\n",
    "    model = LogisticRegression()"
   ]
  },
  {
   "cell_type": "code",
   "execution_count": null,
   "metadata": {},
   "outputs": [],
   "source": [
    "model.fit(X_train, T_train)"
   ]
  },
  {
   "cell_type": "code",
   "execution_count": null,
   "metadata": {},
   "outputs": [],
   "source": [
    "Y = model.predict(X_test)\n",
    "if MANUAL:\n",
    "    acc = logistic_accuracy(T_test, Y)\n",
    "else:\n",
    "    acc = accuracy_score(T_test, Y)\n",
    "print(f\"Accuracy: {acc}\")"
   ]
  },
  {
   "cell_type": "markdown",
   "metadata": {},
   "source": [
    "# Decision Trees"
   ]
  },
  {
   "cell_type": "code",
   "execution_count": null,
   "metadata": {},
   "outputs": [],
   "source": [
    "# data preprocessing\n",
    "numerical_attributes = df.select_dtypes(include=np.number).columns\n",
    "minmax_scaler = MinMaxScaler()\n",
    "\n",
    "for attribute in numerical_attributes:\n",
    "    df[attribute] = minmax_scaler.fit_transform(df[attribute].values.reshape(-1, 1))"
   ]
  },
  {
   "cell_type": "code",
   "execution_count": null,
   "metadata": {},
   "outputs": [],
   "source": [
    "X = df.drop('Revenue', axis=1).values.astype(np.float32)\n",
    "T = df['Revenue'].values.astype(np.float32)"
   ]
  },
  {
   "cell_type": "code",
   "execution_count": null,
   "metadata": {},
   "outputs": [],
   "source": [
    "MANUAL: bool = True\n",
    "if MANUAL:\n",
    "    classes = np.unique(T)\n",
    "    attributes = df.columns\n",
    "    model = MyDecisionTreeClassifier(\"Revenue\", classes, attributes)\n",
    "else:\n",
    "    X_train, X_test, T_train, T_test = train_test_split(X, T, test_size=0.8)\n",
    "    model = DecisionTreeClassifier()"
   ]
  },
  {
   "cell_type": "code",
   "execution_count": null,
   "metadata": {},
   "outputs": [],
   "source": [
    "model.fit(X_train, T_train)"
   ]
  },
  {
   "cell_type": "code",
   "execution_count": null,
   "metadata": {},
   "outputs": [],
   "source": [
    "Y = model.predict(X_test)\n",
    "acc = accuracy_score(T_test, Y)\n",
    "print(f\"Accuracy: {acc}\")"
   ]
  }
 ],
 "metadata": {
  "kernelspec": {
   "display_name": "Python 3",
   "language": "python",
   "name": "python3"
  },
  "language_info": {
   "codemirror_mode": {
    "name": "ipython",
    "version": 3
   },
   "file_extension": ".py",
   "mimetype": "text/x-python",
   "name": "python",
   "nbconvert_exporter": "python",
   "pygments_lexer": "ipython3",
   "version": "3.10.12"
  }
 },
 "nbformat": 4,
 "nbformat_minor": 2
}
